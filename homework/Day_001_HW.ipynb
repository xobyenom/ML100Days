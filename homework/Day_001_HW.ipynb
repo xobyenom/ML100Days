{
 "cells": [
  {
   "cell_type": "markdown",
   "metadata": {},
   "source": [
    "## 練習時間\n",
    "#### 請寫一個函式用來計算 Mean Square Error\n",
    "$ MSE = \\frac{1}{n}\\sum_{i=1}^{n}{(Y_i - \\hat{Y}_i)^2} $\n",
    "\n",
    "### Hint: [如何取平方](https://googoodesign.gitbooks.io/-ezpython/unit-1.html)"
   ]
  },
  {
   "cell_type": "markdown",
   "metadata": {},
   "source": [
    "# [作業目標]\n",
    "- 仿造範例的MAE函數, 自己寫一個MSE函數(參考上面公式)"
   ]
  },
  {
   "cell_type": "markdown",
   "metadata": {},
   "source": [
    "# [作業重點]\n",
    "- 注意程式的縮排\n",
    "- 是否能將數學公式, 轉換為 Python 的函式組合? (In[2], Out[2])"
   ]
  },
  {
   "cell_type": "code",
   "execution_count": 19,
   "metadata": {},
   "outputs": [],
   "source": [
    "# 載入基礎套件與代稱\n",
    "import numpy as np\n",
    "import matplotlib.pyplot as plt"
   ]
  },
  {
   "cell_type": "code",
   "execution_count": 25,
   "metadata": {},
   "outputs": [],
   "source": [
    "def mean_absolute_error(y, yp):\n",
    "    \"\"\"\n",
    "    計算 MAE\n",
    "    Args:\n",
    "        - y: 實際值\n",
    "        - yp: 預測值\n",
    "    Return:\n",
    "        - mae: MAE\n",
    "    \"\"\"\n",
    "    mae = MAE = sum(abs(y - yp)) / len(y)\n",
    "    return mae\n",
    "\n",
    "# 定義 mean_squared_error 這個函數, 計算並傳回 MSE\n",
    "def mean_squared_error(y, yp):\n",
    "    \"\"\"\n",
    "    計算 MSE\n",
    "    Args:\n",
    "        - y: 實際值\n",
    "        - yp: 預測值\n",
    "    Return:\n",
    "        - mse: MSE\n",
    "    \"\"\"\n",
    "    # MSE : 將兩個陣列相減後, 取平方(sq), 再將整個陣列加總成一個數字(sum), 最後除以y的長度(len), 因此稱為\"均方誤差\"\n",
    "    # mse = MSE = sum(math.pow((y - yp),2)) / len(y) math.pow()不能对矩阵进行直接操作\n",
    "    mse = MSE = sum((y - yp)**2) / len(y)\n",
    "    return mse\n"
   ]
  },
  {
   "cell_type": "code",
   "execution_count": 26,
   "metadata": {},
   "outputs": [
    {
     "data": {
      "image/png": "[encoded data removed]",
      "text/plain": [
       "<Figure size 432x288 with 1 Axes>"
      ]
     },
     "metadata": {
      "needs_background": "light"
     },
     "output_type": "display_data"
    }
   ],
   "source": [
    "# 與範例相同, 不另外解說\n",
    "w = 3\n",
    "b = 0.5\n",
    "x_lin = np.linspace(0, 100, 101)\n",
    "y = (x_lin + np.random.randn(101) * 5) * w + b\n",
    "\n",
    "plt.plot(x_lin, y, 'b.', label = 'data points')\n",
    "plt.title(\"Assume we have data points\")\n",
    "plt.legend(loc = 2)\n",
    "plt.show()"
   ]
  },
  {
   "cell_type": "code",
   "execution_count": 27,
   "metadata": {},
   "outputs": [
    {
     "data": {
      "image/png": "[encoded data removed]",
      "text/plain": [
       "<Figure size 432x288 with 1 Axes>"
      ]
     },
     "metadata": {
      "needs_background": "light"
     },
     "output_type": "display_data"
    }
   ],
   "source": [
    "# 與範例相同, 不另外解說\n",
    "y_hat = x_lin * w + b\n",
    "plt.plot(x_lin, y, 'b.', label = 'data')\n",
    "plt.plot(x_lin, y_hat, 'r-', label = 'prediction')\n",
    "plt.title(\"Assume we have data points (And the prediction)\")\n",
    "plt.legend(loc = 2)\n",
    "plt.show()"
   ]
  },
  {
   "cell_type": "code",
   "execution_count": 28,
   "metadata": {},
   "outputs": [
    {
     "name": "stdout",
     "output_type": "stream",
     "text": [
      "The Mean squared error is 206.951\n",
      "The Mean absolute error is 10.214\n"
     ]
    }
   ],
   "source": [
    "# 執行 Function, 確認有沒有正常執行\n",
    "MSE = mean_squared_error(y, y_hat)\n",
    "MAE = mean_absolute_error(y, y_hat)\n",
    "print(\"The Mean squared error is %.3f\" % (MSE))\n",
    "print(\"The Mean absolute error is %.3f\" % (MAE))"
   ]
  },
  {
   "cell_type": "markdown",
   "metadata": {},
   "source": [
    "# [作業2]\n",
    "\n",
    "請上 Kaggle, 在 Competitions 或 Dataset 中找一組競賽或資料並寫下：\n",
    "[League of Legends Ranked Games](https://www.kaggle.com/datasnaek/league-of-legends?select=games.csv)\n",
    "## 1. 你選的這組資料為何重要\n",
    "我是一個LOL的業餘玩家,當然在年輕的時候玩的很瘋.所以我會對這些資料感興趣.畢竟研究這些資料或許可以發現一些有趣的事情.\n",
    "\n",
    "## 2. 資料從何而來 (tips: 譬如提供者是誰、以什麼方式蒐集)\n",
    "提供者不確定.這些資料記錄了在RANK內,2個隊伍每隊五人,共十位玩家所選擇的腳色.或許可以在裡面分析出那些英雄組合會有較高的贏面理由為和?\n",
    "\n",
    "## 3. 蒐集而來的資料型態為何\n",
    "這場遊戲時間(秒),十位玩家所選的腳色,被禁用的腳色,招喚師技能,是否有拿到巴隆,小龍這些的\n",
    "\n",
    "## 4. 這組資料想解決的問題如何評估\n",
    "先把英雄的勝率分組,看看那些英雄的組合勝率是否會顯著提升.\n",
    "\n",
    "\n",
    "\n",
    "# [作業3]\n",
    "\n",
    "想像你經營一個自由載客車隊，你希望能透過數據分析以提升業績，請你思考並描述你如何規劃整體的分析OR解決方案：\n",
    "\n",
    "## 1. 核心問題為何 (tips：如何定義 「提升業績 & 你的假設」)\n",
    "### 什麼叫做提升業績.\n",
    "1. 賣出更多的車子.\n",
    "2. 賣出更貴的車子.\n",
    "3. 賣出利潤高的車子.\n",
    "4. 讓別人更想買車子.\n",
    "5. 讓別人不能賣車子,只有我能賣.\n",
    "6. 銷售員的影響.\n",
    "7. 老闆的影響.\n",
    "8. 社會的影響.\n",
    "\n",
    "## 2. 資料從何而來 (tips：哪些資料可能會對你想問的問題產生影響 & 資料如何蒐集)\n",
    "1. 車子的款式:販售價格,總銷售數量,稅金,利潤.(這應該車商都有,或代理商)\n",
    "2. 要做問券調查:是否有車?為什麼買車?年收入如何?需求為何?是否有停車位?\n",
    "3. 哪位銷售員賣了多少車? 客戶如何來的?\n",
    "\n",
    "\n",
    "## 3. 蒐集而來的資料型態為何\n",
    "1. 車子的款式: 應該有顏色,大小(幾人座),油耗數,馬力,售價,利潤,稅金\n",
    "2. 是否有車(Y,N),買車的理由(自用,商用),年收入...\n",
    "3. 銷售員(EmpId),每月賣出幾部車,總利潤,分紅,總客戶數量,新客數量,舊客數量,男性數量,女性數量\n",
    "\n",
    "## 4. 你要回答的問題，其如何評估 (tips：你的假設如何驗證)\n",
    "藉由分析已經買車的人,他們的年收入,以及自用或商用.分析出哪款車賣的最好.以及銷售員在其中的影響.\n",
    "推論尚未買車的人會買那些車,為什麼?重點推銷.\n"
   ]
  },
  {
   "cell_type": "code",
   "execution_count": null,
   "metadata": {},
   "outputs": [],
   "source": []
  }
 ],
 "metadata": {
  "anaconda-cloud": {},
  "kernelspec": {
   "display_name": "Python 3",
   "language": "python",
   "name": "python3"
  },
  "language_info": {
   "codemirror_mode": {
    "name": "ipython",
    "version": 3
   },
   "file_extension": ".py",
   "mimetype": "text/x-python",
   "name": "python",
   "nbconvert_exporter": "python",
   "pygments_lexer": "ipython3",
   "version": "3.7.6"
  }
 },
 "nbformat": 4,
 "nbformat_minor": 1
}
