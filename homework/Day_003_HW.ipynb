{
 "cells": [
  {
   "cell_type": "markdown",
   "metadata": {},
   "source": [
    "## [作業目標]\n",
    "持續接觸有關機器學習的相關專案與最新技術"
   ]
  },
  {
   "cell_type": "markdown",
   "metadata": {},
   "source": [
    "## [作業重點]\n",
    "透過觀察頂尖公司的機器學習文章，來了解各公司是怎麼應用機器學習在實際的專案上"
   ]
  },
  {
   "cell_type": "markdown",
   "metadata": {},
   "source": [
    "## [作業]\n",
    "今天的作業希望大家能夠看看全球機器學習巨頭們在做的機器學習專案。以 google 為例，下圖是 Google 內部專案使用機器學習的數量，隨著時間進展，現在早已超過 2000 個專案在使用機器學習。"
   ]
  },
  {
   "cell_type": "markdown",
   "metadata": {},
   "source": [
    "![image](https://cdn-images-1.medium.com/max/800/1*U_L8qI8RmYS-MOBrYvXhSA.png)"
   ]
  },
  {
   "cell_type": "markdown",
   "metadata": {},
   "source": [
    "底下幫同學整理幾間知名企業的 blog 或機器學習網站 (自行搜尋也可)，這些網站都會整理最新的機器學習專案或者是技術文章，請挑選一篇文章閱讀並試著回答\n",
    "1. 專案的目標？ (要解決什麼問題）\n",
    "2. 使用的技術是？ (只需知道名稱即可，例如：使用 CNN 卷積神經網路做影像分類)\n",
    "3. 資料來源？ "
   ]
  },
  {
   "cell_type": "markdown",
   "metadata": {},
   "source": [
    "- [Google AI blog](https://ai.googleblog.com/)\n",
    "- [Facebook Research blog](https://research.fb.com/blog/)\n",
    "- [Apple machine learning journal](https://machinelearning.apple.com/)\n",
    "- [機器之心](https://www.jiqizhixin.com/)\n",
    "- [雷鋒網](http://www.leiphone.com/category/ai)"
   ]
  },
  {
   "cell_type": "markdown",
   "metadata": {},
   "source": [
    "看到文章:\n",
    "\n",
    "[看看函数名和注释，AI就能自动生成代码，程序员：这不真实，我要失业](https://www.jiqizhixin.com/articles/2020-05-22-8)\n",
    "\n",
    "1. 專案目標\n",
    "\n",
    "    讓AI自動生成代碼.\n",
    "    常見的就是,網頁上一堆的欄位名稱.\n",
    "    或許可以直接讓AI幫你寫好一部分程式.\n",
    "\n",
    "    例如:\n",
    "    畫面上有CustId\n",
    "    資料庫為CustMain\n",
    "    \n",
    "    程式名稱為:CustDataFind\n",
    "\n",
    "    AI或許可以幫忙生成:\n",
    "\n",
    "        package ...;\n",
    "        import ...;\n",
    "        @Service(\"XXXXX\")\n",
    "        @Scope(\"prototype\")\n",
    "        public class CustDataFind extends TradeBuffer {\n",
    "            //DB服務\n",
    "            @Autowired\n",
    "            public CustMainService sCustMainService;\n",
    "\n",
    "            @Override\n",
    "            public ArrayList<TotaVo> run(TitaVo titaVo) throws LogicException {\n",
    "                this.info(\"active XXXXX \");\n",
    "                this.totaVo.init(titaVo);\n",
    "                \n",
    "                //前端的值\n",
    "                String CustId=titaVo.getParam(\"CustId\").trim();\n",
    "                \n",
    "                //防呆\n",
    "                if(CustId!=null && CustId.length()!=0){\n",
    "                    \n",
    "                }else{\n",
    "                    throw new LogicException(titaVo, \"ErrorCode1\",\"CustId is not Exist\");\n",
    "                }\n",
    "                \n",
    "                //撈取資料\n",
    "                CustMainId CustMainIdVO=new CustMain();\n",
    "                CustMainIdVO.setCustId(CustId);\n",
    "                \n",
    "                try{\n",
    "                    CustMain CustMainVO=sCustMainService.findCustId(CustMainIdVO);\n",
    "                    if(CustMainVO!=null){\n",
    "                        //塞入資料\n",
    "                        totaVo.putParam(\"CustId\",CustId);//\n",
    "                    }else{\n",
    "                        throw new LogicException(titaVo, \"ErrorCode2\",\"\");\n",
    "                    }\n",
    "                } catch (DBException e) {\n",
    "                    throw new LogicException(titaVo, \"ErrorCode3\",e.getErrorMsg());\n",
    "                }\n",
    "\n",
    "                //丟資料給前端\n",
    "                this.addList(this.totaVo);\n",
    "                return this.sendList();\n",
    "            }\n",
    "        }\n",
    "\n",
    "2. 使用的技術是？ (只需知道名稱即可，例如：使用 CNN 卷積神經網路做影像分類)\n",
    "\n",
    "    OpenAI 的 GPT 模型相同的无监督技术\n",
    "3. 資料來源？\n",
    "\n",
    "    https://www.reddit.com/r/MachineLearning/comments/gnmjki/dn_microsoft_demos_language_model_that_writes/\n",
    "    https://twitter.com/matvelloso/status/1263193089310461952\n",
    "    "
   ]
  }
 ],
 "metadata": {
  "kernelspec": {
   "display_name": "Python 3",
   "language": "python",
   "name": "python3"
  },
  "language_info": {
   "codemirror_mode": {
    "name": "ipython",
    "version": 3
   },
   "file_extension": ".py",
   "mimetype": "text/x-python",
   "name": "python",
   "nbconvert_exporter": "python",
   "pygments_lexer": "ipython3",
   "version": "3.7.6"
  }
 },
 "nbformat": 4,
 "nbformat_minor": 2
}
